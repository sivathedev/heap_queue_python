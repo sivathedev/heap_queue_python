{
 "cells": [
  {
   "cell_type": "code",
   "execution_count": 1,
   "metadata": {},
   "outputs": [
    {
     "name": "stdout",
     "output_type": "stream",
     "text": [
      "Original list:\n",
      "[25, 35, 22, 85, 14, 65, 75, 22, 58]\n",
      "\n",
      "Three largest numbers are: [85, 75, 65]\n"
     ]
    }
   ],
   "source": [
    "import heapq as hq\n",
    "nums_list = [25, 35, 22, 85, 14, 65, 75, 22, 58]\n",
    "print(\"Original list:\")\n",
    "print(nums_list)\n",
    "# Find three largest values\n",
    "largest_nums = hq.nlargest(3, nums_list)\n",
    "print(\"\\nThree largest numbers are:\", largest_nums)"
   ]
  },
  {
   "cell_type": "code",
   "execution_count": null,
   "metadata": {},
   "outputs": [],
   "source": []
  }
 ],
 "metadata": {
  "kernelspec": {
   "display_name": "Python 3",
   "language": "python",
   "name": "python3"
  },
  "language_info": {
   "codemirror_mode": {
    "name": "ipython",
    "version": 3
   },
   "file_extension": ".py",
   "mimetype": "text/x-python",
   "name": "python",
   "nbconvert_exporter": "python",
   "pygments_lexer": "ipython3",
   "version": "3.8.3"
  }
 },
 "nbformat": 4,
 "nbformat_minor": 4
}
